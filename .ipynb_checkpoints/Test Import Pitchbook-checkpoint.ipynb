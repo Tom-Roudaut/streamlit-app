{
 "cells": [
  {
   "cell_type": "code",
   "execution_count": 1,
   "id": "00f32527-91a0-49c6-9e36-3bf32b021128",
   "metadata": {},
   "outputs": [
    {
     "name": "stdout",
     "output_type": "stream",
     "text": [
      "Loading the Excel file...\n",
      "Excel file loaded. Here are the first few rows:\n",
      "        Seventure\n",
      "0  Aquiti gestion\n",
      "1        Revolugo\n",
      "2        Verteego\n",
      "Fetching URLs for each company name...\n",
      "Searching for URL of: Aquiti gestion\n",
      "Found URL for Aquiti gestion: http://www.aquiti.fr/\n",
      "Searching for URL of: Revolugo\n",
      "Found URL for Revolugo: https://www.revolugo.com/\n",
      "Searching for URL of: Verteego\n",
      "Found URL for Verteego: https://www.verteego.com/\n",
      "URLs have been fetched. Here are the first few results:\n",
      "        Seventure                        URL\n",
      "0  Aquiti gestion      http://www.aquiti.fr/\n",
      "1        Revolugo  https://www.revolugo.com/\n",
      "2        Verteego  https://www.verteego.com/\n",
      "Saving the updated Excel file to /Users/sachadoliner/Desktop/Test url pour import Affinity.xlsx...\n",
      "URLs have been successfully retrieved and saved to /Users/sachadoliner/Desktop/Test url pour import Affinity.xlsx\n"
     ]
    }
   ],
   "source": [
    "import pandas as pd\n",
    "from googlesearch import search\n",
    "import os\n",
    "\n",
    "def get_url(company_name):\n",
    "    query = f\"{company_name} site officiel\"\n",
    "    print(f\"Searching for URL of: {company_name}\")\n",
    "    try:\n",
    "        for url in search(query, num_results=1):\n",
    "            print(f\"Found URL for {company_name}: {url}\")\n",
    "            return url\n",
    "    except Exception as e:\n",
    "        print(f\"Error occurred while searching for {company_name}: {e}\")\n",
    "        return f\"Error: {str(e)}\"\n",
    "    return \"URL non trouvée\"\n",
    "\n",
    "# Chemin vers le fichier Excel\n",
    "input_file = '/Users/sachadoliner/Desktop/Test url pour import Affinity.xlsx'\n",
    "\n",
    "# Vérifier si le fichier existe\n",
    "if not os.path.exists(input_file):\n",
    "    print(f\"File not found: {input_file}\")\n",
    "else:\n",
    "    # Charger le fichier Excel\n",
    "    print(\"Loading the Excel file...\")\n",
    "    try:\n",
    "        df = pd.read_excel(input_file)\n",
    "        print(\"Excel file loaded. Here are the first few rows:\")\n",
    "        print(df.head())\n",
    "        \n",
    "        # Ajouter une colonne pour les URLs en fonction des noms de sociétés dans la colonne A\n",
    "        print(\"Fetching URLs for each company name...\")\n",
    "        try:\n",
    "            df['URL'] = df.iloc[:, 0].apply(get_url)  # Colonne A est la première colonne (index 0)\n",
    "            print(\"URLs have been fetched. Here are the first few results:\")\n",
    "            print(df.head())\n",
    "            \n",
    "            # Sauvegarder les résultats en écrasant le fichier d'entrée et en écrivant les URLs dans la colonne B\n",
    "            print(f\"Saving the updated Excel file to {input_file}...\")\n",
    "            try:\n",
    "                df.to_excel(input_file, index=False, engine='openpyxl')\n",
    "                print(f\"URLs have been successfully retrieved and saved to {input_file}\")\n",
    "            except Exception as e:\n",
    "                print(f\"An error occurred while saving the file: {e}\")\n",
    "        except Exception as e:\n",
    "            print(f\"An error occurred while fetching URLs: {e}\")\n",
    "    except Exception as e:\n",
    "        print(f\"An error occurred while loading the Excel file: {e}\")"
   ]
  },
  {
   "cell_type": "code",
   "execution_count": null,
   "id": "401504d4-7c52-4323-b1e0-1218345b0e5d",
   "metadata": {},
   "outputs": [],
   "source": []
  }
 ],
 "metadata": {
  "kernelspec": {
   "display_name": "Python 3 (ipykernel)",
   "language": "python",
   "name": "python3"
  },
  "language_info": {
   "codemirror_mode": {
    "name": "ipython",
    "version": 3
   },
   "file_extension": ".py",
   "mimetype": "text/x-python",
   "name": "python",
   "nbconvert_exporter": "python",
   "pygments_lexer": "ipython3",
   "version": "3.12.4"
  }
 },
 "nbformat": 4,
 "nbformat_minor": 5
}
