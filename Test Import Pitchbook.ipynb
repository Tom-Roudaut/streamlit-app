{
 "cells": [
  {
   "cell_type": "code",
   "execution_count": 6,
   "id": "00f32527-91a0-49c6-9e36-3bf32b021128",
   "metadata": {},
   "outputs": [
    {
     "name": "stdout",
     "output_type": "stream",
     "text": [
      "Loading the Excel file...\n",
      "File uploaded successfully. Here are the first few rows:\n",
      "              Company      Unnamed: 1\n",
      "0  Seventure Partners             NaN\n",
      "1   StageOne Ventures  stageonevc.com\n",
      "2                Kima         kima.vc\n",
      "3               Felix   felix.capital\n",
      "4             Origins      origins.vc\n",
      "Completing URLs for each simplified URL...\n",
      "URLs have been completed. Here are the first few results:\n",
      "              Company      Unnamed: 1                       Complete URL\n",
      "0  Seventure Partners             NaN  https://en.wikipedia.org/wiki/NaN\n",
      "1   StageOne Ventures  stageonevc.com            https://stageonevc.com/\n",
      "2                Kima         kima.vc      https://www.kimaventures.com/\n",
      "3               Felix   felix.capital          https://www.felixcap.com/\n",
      "4             Origins      origins.vc          https://www.origins.fund/\n",
      "URLs have been successfully completed and saved to /Users/sachadoliner/Desktop/Classeur11_with_complete_urls.xlsx\n"
     ]
    }
   ],
   "source": [
    "import pandas as pd\n",
    "from googlesearch import search\n",
    "import os\n",
    "\n",
    "def complete_url(simplified_url):\n",
    "    if pd.isna(simplified_url):\n",
    "        return \"\"\n",
    "    if not simplified_url.startswith(\"http://\") and not simplified_url.startswith(\"https://\"):\n",
    "        return \"http://\" + simplified_url\n",
    "    return simplified_url\n",
    "\n",
    "def get_complete_url(simplified_url):\n",
    "    full_url = complete_url(simplified_url)\n",
    "    try:\n",
    "        # Utilisation de la recherche Google pour vérifier et compléter l'URL\n",
    "        query = f\"{simplified_url}\"\n",
    "        search_result = list(search(query, num_results=1))\n",
    "        if search_result:\n",
    "            return search_result[0]\n",
    "        else:\n",
    "            return full_url\n",
    "    except Exception as e:\n",
    "        return f\"Error: {str(e)}\"\n",
    "\n",
    "# Chemin vers le fichier Excel d'entrée\n",
    "input_file = '/Users/sachadoliner/Desktop/Classeur11.xlsx'  # Remplacez par le nom réel du fichier\n",
    "\n",
    "# Charger le fichier Excel\n",
    "print(\"Loading the Excel file...\")\n",
    "df = pd.read_excel(input_file)\n",
    "print(\"File uploaded successfully. Here are the first few rows:\")\n",
    "print(df.head())\n",
    "\n",
    "# Compléter les URLs dans la colonne B et ajouter une nouvelle colonne pour les URLs complètes\n",
    "print(\"Completing URLs for each simplified URL...\")\n",
    "df['Complete URL'] = df.iloc[:, 1].apply(get_complete_url)\n",
    "\n",
    "# Afficher les résultats\n",
    "print(\"URLs have been completed. Here are the first few results:\")\n",
    "print(df.head())\n",
    "\n",
    "# Chemin de sortie pour le fichier Excel mis à jour\n",
    "output_file = os.path.splitext(input_file)[0] + '_with_complete_urls.xlsx'\n",
    "\n",
    "# Sauvegarder les résultats dans un nouveau fichier Excel\n",
    "df.to_excel(output_file, index=False)\n",
    "\n",
    "print(f\"URLs have been successfully completed and saved to {output_file}\")"
   ]
  },
  {
   "cell_type": "code",
   "execution_count": null,
   "id": "401504d4-7c52-4323-b1e0-1218345b0e5d",
   "metadata": {},
   "outputs": [],
   "source": []
  }
 ],
 "metadata": {
  "kernelspec": {
   "display_name": "Python 3 (ipykernel)",
   "language": "python",
   "name": "python3"
  },
  "language_info": {
   "codemirror_mode": {
    "name": "ipython",
    "version": 3
   },
   "file_extension": ".py",
   "mimetype": "text/x-python",
   "name": "python",
   "nbconvert_exporter": "python",
   "pygments_lexer": "ipython3",
   "version": "3.12.4"
  }
 },
 "nbformat": 4,
 "nbformat_minor": 5
}
